{
 "cells": [
  {
   "cell_type": "code",
   "execution_count": 1,
   "metadata": {},
   "outputs": [],
   "source": [
    "import re"
   ]
  },
  {
   "cell_type": "code",
   "execution_count": 9,
   "metadata": {},
   "outputs": [
    {
     "name": "stdout",
     "output_type": "stream",
     "text": [
      "Found word:cat\n"
     ]
    }
   ],
   "source": [
    "string = 'an example word:cat!!'\n",
    "match = re.search(r'word:\\w\\w\\w', string)\n",
    "# If-statement after search() tests if it succeeded\n",
    "if match:\n",
    "    # 'Found word:cat')\n",
    "    print('Found', match.group())\n",
    "else:\n",
    "    print('Did not find')"
   ]
  },
  {
   "cell_type": "code",
   "execution_count": 10,
   "metadata": {},
   "outputs": [
    {
     "name": "stdout",
     "output_type": "stream",
     "text": [
      "piii\n",
      "ii\n"
     ]
    }
   ],
   "source": [
    "# i+ = one or more i's, as many as possible.\n",
    "match = re.search(r'pi+', 'piiig')\n",
    "print(match.group())\n",
    "\n",
    "# Match the first fulfilled term\n",
    "# In this example, note that it does not get to the second set of i's.\n",
    "match = re.search(r'i+', 'piigiiii')\n",
    "print(match.group())"
   ]
  },
  {
   "cell_type": "code",
   "execution_count": 11,
   "metadata": {},
   "outputs": [
    {
     "name": "stdout",
     "output_type": "stream",
     "text": [
      "1 2   3\n",
      "12  3\n",
      "123\n"
     ]
    }
   ],
   "source": [
    "# \\s* = zero or more whitespace chars\n",
    "# Here look for 3 digits, possibly separated by whitespace.\n",
    "match = re.search(r'\\d\\s*\\d\\s*\\d', 'xx1 2   3xx') # found, match.group() == \"1 2   3\"\n",
    "print(match.group())\n",
    "match = re.search(r'\\d\\s*\\d\\s*\\d', 'xx12  3xx') # found, match.group() == \"12  3\"\n",
    "print(match.group())\n",
    "match = re.search(r'\\d\\s*\\d\\s*\\d', 'xx123xx') # found, match.group() == \"123\"\n",
    "print(match.group())"
   ]
  },
  {
   "cell_type": "code",
   "execution_count": 12,
   "metadata": {},
   "outputs": [
    {
     "name": "stdout",
     "output_type": "stream",
     "text": [
      "bar\n"
     ]
    }
   ],
   "source": [
    "# ^ = matches the start of string, so this fails:\n",
    "match = re.search(r'^b\\w+', 'foobar') # not found, match == None\n",
    "# print(match.group())\n",
    "\n",
    "# but without the ^ it succeeds:\n",
    "match = re.search(r'b\\w+', 'foobar') # found, match.group() == \"bar\"\n",
    "print(match.group())"
   ]
  },
  {
   "cell_type": "code",
   "execution_count": null,
   "metadata": {},
   "outputs": [],
   "source": []
  }
 ],
 "metadata": {
  "kernelspec": {
   "display_name": "Python 3",
   "language": "python",
   "name": "python3"
  },
  "language_info": {
   "codemirror_mode": {
    "name": "ipython",
    "version": 3
   },
   "file_extension": ".py",
   "mimetype": "text/x-python",
   "name": "python",
   "nbconvert_exporter": "python",
   "pygments_lexer": "ipython3",
   "version": "3.7.0"
  }
 },
 "nbformat": 4,
 "nbformat_minor": 2
}
